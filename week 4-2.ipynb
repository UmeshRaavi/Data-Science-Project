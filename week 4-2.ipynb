{
 "cells": [
  {
   "cell_type": "markdown",
   "metadata": {
    "collapsed": true
   },
   "source": [
    "#  The Battle of the Neighborhoods - Week 1\n",
    "## Data:\n",
    "## City will be analyzed in this project : Paris.\n",
    "\n",
    "### We will be using the below datasets for analyzing Paris.\n",
    "\n",
    "### In this project, three different datasets will be used to solve the problem:\n",
    "\n",
    "### Paris Recorded Crime,List of Paris Boroughs, *Foursquare API. After acquiring them from original and reliable sources, they will be wrangled and cleansed into more useful forms for further analysis."
   ]
  },
  {
   "cell_type": "markdown",
   "metadata": {},
   "source": [
    "## Paris recorded crime\n",
    "### website url:  https://www.dailymail.co.uk/news/article-7635301/Paris-sees-violent-crime-rise-70-CENT-areas-police-say-struggling-cope.html"
   ]
  },
  {
   "cell_type": "markdown",
   "metadata": {},
   "source": [
    "\n",
    "## List of Paris Boroughs\n",
    "### website url: https://parismap360.com/paris-arrondissement-map\n",
    "\n",
    "## Foursquare API\n",
    "### url: https://developer.foursquare.com/"
   ]
  },
  {
   "cell_type": "code",
   "execution_count": null,
   "metadata": {},
   "outputs": [],
   "source": []
  }
 ],
 "metadata": {
  "kernelspec": {
   "display_name": "Python 3.6",
   "language": "python",
   "name": "python3"
  },
  "language_info": {
   "codemirror_mode": {
    "name": "ipython",
    "version": 3
   },
   "file_extension": ".py",
   "mimetype": "text/x-python",
   "name": "python",
   "nbconvert_exporter": "python",
   "pygments_lexer": "ipython3",
   "version": "3.6.9"
  }
 },
 "nbformat": 4,
 "nbformat_minor": 1
}
